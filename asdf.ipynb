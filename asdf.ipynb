import 
一、数据预处理
一/1、数据概况
df.info()
df.describe()
print("行列： \n",df.shape)
print("空值： \n",df.isnull().sum())
print("重复值： \n",df.duplicated().sum())
2、处理空值
# 扔掉80%空值的特征
# drop columns with more than 80% null values
loan_data.dropna(thresh = loan_data.shape[0]*0.2, how = 'all', axis = 1, inplace = True)

# 使用均值填充缺失值
imputer = SimpleImputer(strategy='mean')
data_imputed = pd.DataFrame(imputer.fit_transform(data), columns=data.columns)
# 确认缺失值已处理
print(data_imputed.isnull().sum())
3、处理异常值（先看一下分布，再选择怎么处理异常值）
# 查看分布
def fenbu(df,feature,bin):
  if bin = 0:
    distribute = df[feature].value_counts()
  else:
    df[f'{feature}_binned'}] = pd.cut(df[feature],bins = bin)
    distribute = df[f'{feature}_binned'}].value_counts()

fig = plt.figure(figsize=(10,5))
sns.barplot(x = distribute.index, y=distribute.values)
plt.xtricks(rotation =45)
plt.show()

# 查看异常值直方图和箱线图：
def dis_yichang(target,bin):
fig = plt.figure(figsize=(10,5))
plt.subplot(121)
sns.displot(target,fit=norm,bins=bin)
(mu,sigma)=norm.fit(target)
print('mu= and sigma = 
plt.ylabel('Frequency')
# 箱线图
plt.subplot(122)
sns.box(y=target,width=0.2)
4、
# 使用随机森林模型进行递归特征消除（RFE）
rf = RandomForestClassifier()
rf.fit(X,y)
feature_im = rf.feature_importances_
k=20
selected_features_rfe = X.columns[feature_im.argsort()[::-1][:k]]
im_df = pd.DataFrame({'fe':X.columns,'im':feature_im}).sort_values
