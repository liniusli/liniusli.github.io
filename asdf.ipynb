import 
一、数据预处理
一/1、数据概况
df.info()
df.describe()
print("行列： \n",df.shape)
print("空值： \n",df.isnull().sum())
print("重复值： \n",df.duplicated().sum())
2、处理空值
# 扔掉80%空值的特征
# drop columns with more than 80% null values
loan_data.dropna(thresh = loan_data.shape[0]*0.2, how = 'all', axis = 1, inplace = True)

# 使用均值填充缺失值
imputer = SimpleImputer(strategy='mean')
data_imputed = pd.DataFrame(imputer.fit_transform(data), columns=data.columns)
# 确认缺失值已处理
print(data_imputed.isnull().sum())
3、处理异常值（先看一下分布，再选择怎么处理异常值）
# 查看分布
def fenbu(df,feature,bin):
  if bin = 0:
    distribute = df[feature].value_counts()
  else:
    df[f'{feature}_binned'}] = pd.cut(df[feature],bins = bin)
    distribute = df[f'{feature}_binned'}].value_counts()

fig = plt.figure(figsize=(10,5))
sns.barplot(x = distribute.index, y=distribute.values)
plt.xtricks(rotation =45)
plt.show()

# 查看异常值直方图和箱线图：
def dis_yichang(target,bin):
fig = plt.figure(figsize=(10,5))
plt.subplot(121)
sns.displot(target,fit=norm,bins=bin)
(mu,sigma)=norm.fit(target)
print('mu= and sigma = 
plt.ylabel('Frequency')
# 箱线图
plt.subplot(122)
sns.box(y=target,width=0.2)

# 查看上下界四分位数：
def IQR(df,target,floor,ceiling):
  Q1=df[target].quantile.floor()
  Q3=
  IQR=
  down = q1-1.5*IQR
  up = q3+1.5*IQR
  return down,up
  if meth == drop:
    df= df.loc[()]
4、
# 使用随机森林模型进行递归特征消除（RFE）
rf = RandomForestClassifier()
rf.fit(X,y)
feature_im = rf.feature_importances_
k=20
selected_features_rfe = X.columns[feature_im.argsort()[::-1][:k]]
im_df = pd.DataFrame({'fe':X.columns,'im':feature_im}).sort_values

import pandas as pd
import numpy as np

# 表1是流水数据，表2是申请数据
df_orders = pd.read_csv('orders.csv')
df_applications = pd.read_csv('applications.csv')

# 将表1和表2按订单编号合并
df_merged = pd.merge(df_orders, df_applications, on='订单编号', how='left')

# 转换日期
df_merged['应还时间'] = pd.to_datetime(df_merged['应还时间'])
df_merged['实还时间'] = pd.to_datetime(df_merged['实还时间'])
df_merged['申请时间'] = pd.to_datetime(df_merged['申请时间'])

# 定义计算逾期天数的函数处理还款金额为0的情况
def calculate_overdue_days(row, group):
    # 如果还款金额为0
    if row['还款金额'] == 0:
        # 查找该订单编号的所有期数，按应还时间排序
        future_payments = group[group['应还时间'] > row['应还时间']].sort_values('应还时间')
        
        # 查找下一个有还款的期数
        next_payment = future_payments[future_payments['还款金额'] > 0].head(1)
        
        # 如果下一期有还款则使用该期的实还时间计算逾期天数
        if not next_payment.empty:
            next_realpayment = next_payment['实还时间'].values[0]
            overdue_days = (next_realpayment- row['应还时间']).days
        else:
            # 如果没有后续还款，用当前时间计算逾期天数
            overdue_days = (current_date - row['应还时间']).days
    else:
        # 还款金额不为0，正常计算逾期天数
        overdue_days = (row['实还时间'] - row['应还时间']).days
        
    return overdue_days if overdue_days > 0 else 0

# 使用当前时间
current_date = pd.Timestamp.now()

# 按订单编号进行分组，并计算每一期的逾期天数
df_merged['逾期天数'] = df_merged.groupby('订单编号').apply(
    lambda group: group.apply(lambda row: calculate_overdue_days(row, group), axis=1)
).reset_index(drop=True)

# 四类特征-----------------

# 1. 申请特征
applicant_features = df_merged.groupby('申请人编号').agg(
    total_applications=pd.NamedAgg(column='订单编号', aggfunc='nunique'),  # 总申请次数
    total_periods=pd.NamedAgg(column='期数', aggfunc='count'),  # 总期数count期数
    max_installments=pd.NamedAgg(column='期数', aggfunc='max')  # 最大期数
).reset_index()

# 2. 逾期相关特征
# 定义一个最高连续逾期次数
def max_consecutive_overdue(group):
    group['is_overdue'] = group['逾期天数'] > 0
    group['consecutive'] = (group['is_overdue'] != group['is_overdue'].shift(1)).cumsum()
    return group[group['is_overdue']].groupby('consecutive')['is_overdue'].count().max()

repayment_features = df_merged.groupby('申请人编号').agg(
    total_overdue_count=pd.NamedAgg(column='逾期天数', aggfunc=lambda x: (x > 0).sum()),  # 总逾期次数
    total_overdue_days=pd.NamedAgg(column='逾期天数', aggfunc='sum'),  # 总逾期天数
    avg_overdue_days=pd.NamedAgg(column='逾期天数', aggfunc='mean'),  # 平均逾期天数
    max_overdue_days=pd.NamedAgg(column='逾期天数', aggfunc='max'),  # 最大逾期天数
    max_consecutive_overdue=pd.NamedAgg(column='逾期天数', aggfunc=max_consecutive_overdue)  # 最高连续逾期次数
).reset_index()

# 总逾期期数/总期数比例
repayment_ratio_features = df_merged.groupby('申请人编号').agg(
    total_periods=pd.NamedAgg(column='期数', aggfunc='count'),  # 总期数
    overdue_periods=pd.NamedAgg(column='逾期天数', aggfunc=lambda x: (x > 0).sum())  # 逾期期数
).reset_index()

repayment_ratio_features['overdue_to_total_ratio'] = repayment_ratio_features['overdue_periods'] / repayment_ratio_features['total_periods']

# 3. 还款金额特征
repayment_amount_features = df_merged.groupby('申请人编号').agg(
    total_repayment_amount=pd.NamedAgg(column='还款金额', aggfunc='sum'),  # 总还款金额
    avg_repayment_amount=pd.NamedAgg(column='还款金额', aggfunc='mean'),  # 平均还款金额
    max_repayment_amount=pd.NamedAgg(column='还款金额', aggfunc='max')  # 最大还款金额
).reset_index()

# 4. 时间特征
df_unique_applications = df_merged[['申请人编号', '申请时间']].drop_duplicates()

time_features = df_unique_applications.groupby('申请人编号').agg(
    first_application_time=pd.NamedAgg(column='申请时间', aggfunc='min'),  # 首次申请时间
    recent_application_time=pd.NamedAgg(column='申请时间', aggfunc='max'),  # 最近一次申请时间
    avg_application_interval=pd.NamedAgg(column='申请时间', aggfunc=lambda x: (x.diff().dt.days).mean()),  # 平均申请间隔
    open_days=pd.NamedAgg(column='申请时间', aggfunc=lambda x: (current_date - x.min()).days)  # 开立至今天数
).reset_index()

# 合并所有特征
final_features = applicant_features.merge(repayment_features, on='申请人编号', how='left')
final_features = final_features.merge(repayment_amount_features, on='申请人编号', how='left')
final_features = final_features.merge(repayment_ratio_features[['申请人编号', 'overdue_to_total_ratio']], on='申请人编号', how='left')
final_features = final_features.merge(time_features, on='申请人编号', how='left')

# 四类特征中，申请特征有：总申请次数，总期数，最大期数；逾期相关特征中有：总逾期天数，最大逾期天数，总逾期次数，最高连续逾期次数，总逾期期数/总期数比例；还款金额特征有：总还款金额，平均还款金额，最大还款金额；时间特征有：首次申请时间，最近一次申请时间，平均申请间隔和开立至今天数就是信用历史长度

# 该变量和坏账率之间存在单调递增的关系，从0-30到110-130坏账率逐步上升，增加1%左右，而在130分钟以上时坏账率增至22%，说明了这个区间内的客户存在着显著的高风险；总的来说，该变量对坏账率而言表现出了比较高的区分能力
# 因为存在单调关系可以直接用原分箱做woe编码处理
# 是不同阈值对应的假正率和真正率画出来的曲线，其中横坐标为假正率，纵坐标为真正率，这指标代表了模型能够把正样本从负样本中区分出来的能力，所以是评估模型性能的指标之一。
# A和B模型总体而言区分能力较好，C模型auc低于0.5意味区分能力较差，不如随机，无法使用。其中A模型相对B而言在低的假正率中即在严格的阈值下表现出了更好的正类识别能力，而B识别出了较少的正类样本，代表着A能更好的减少误报，适合对误报正例敏感的场景，即精确率较高；B的话在阈值宽松时（假正例多时）能识别出更多真正例，就是当需要召回更多正样本时，B模型更好，即召回率较高。

外部因素：客户——观察坏客群是否有什么共同点，大批量的学生还是哪个群体
        宏观——春节假日；政策法规
内部因素——可以从整个贷款流程一步步分析来看：前端审批阶段，回推审批时间，在当时审批阶段，是否有新的审批规则，或者新的营销策略改变了审批手势；后端的催收阶段也同样，回推催收时间，是否催收系统比如短信或语音机器人故障、是否当时催收人员有流动问题，或者有排班等其他管理问题
最后可能银行数据给错了


