import pandas as pd
import numpy as np

# 表1是流水数据，表2是申请数据
df_orders = pd.read_excel('orders.xlsx')
df_applications = pd.read_excel('applications.xlsx')

# 将表1和表2按订单编号合并
df_merged = pd.merge(df_orders, df_applications, on='订单编号', how='left')

# 转换日期
df_merged['应还时间'] = pd.to_datetime(df_merged['应还时间'])
df_merged['实还时间'] = pd.to_datetime(df_merged['实还时间'])
df_merged['申请时间'] = pd.to_datetime(df_merged['申请时间'])

# 定义计算逾期天数的函数处理还款金额为0的情况
def calculate_overdue_days(row, group):
    # 如果还款金额为0
    if row['还款金额'] == 0:
        # 查找该订单编号的所有期数，按应还时间排序
        future_payments = group[group['应还时间'] > row['应还时间']].sort_values('应还时间')
        
        # 查找下一个有还款的期数
        next_payment = future_payments[future_payments['还款金额'] > 0].head(1)
        
        # 如果下一期有还款则使用该期的实还时间计算逾期天数
        if not next_payment.empty:
            next_realpayment = next_payment['实还时间'].values[0]
            overdue_days = (next_realpayment- row['应还时间']).days
        else:
            # 如果没有后续还款，用当前时间计算逾期天数
            overdue_days = (current_date - row['应还时间']).days
    else:
        # 还款金额不为0，正常计算逾期天数
        overdue_days = (row['实还时间'] - row['应还时间']).days
        
    return overdue_days if overdue_days > 0 else 0

# 使用当前时间
current_date = pd.Timestamp.now()

# 按订单编号进行分组，并计算每一期的逾期天数
df_merged['逾期天数'] = df_merged.groupby('订单编号').apply(
    lambda group: group.apply(lambda row: calculate_overdue_days(row, group), axis=1)
).reset_index(drop=True)

# 四类特征-----------------

# 1. 申请特征
applicant_features = df_merged.groupby('申请人编号').agg(
    total_applications=pd.NamedAgg(column='订单编号', aggfunc='nunique'),  # 总申请次数
    total_periods=pd.NamedAgg(column='期数', aggfunc='count'),  # 总期数count期数
    max_installments=pd.NamedAgg(column='期数', aggfunc='max')  # 最大期数
).reset_index()

# 2. 逾期相关特征
# 定义一个最高连续逾期次数
def max_consecutive_overdue(group):
    group['is_overdue'] = group['逾期天数'] > 0
    group['consecutive'] = (group['is_overdue'] != group['is_overdue'].shift(1)).cumsum()
    return group[group['is_overdue']].groupby('consecutive')['is_overdue'].count().max()

max_consecutive_df = df_merged.groupby('申请人编号').apply(max_consecutive_overdue).reset_index(name='max_consecutive_overdue')  # 最高连续逾期次数

repayment_features = df_merged.groupby('申请人编号').agg(
    total_overdue_count=pd.NamedAgg(column='逾期天数', aggfunc=lambda x: (x > 0).sum()),  # 总逾期次数
    total_overdue_days=pd.NamedAgg(column='逾期天数', aggfunc='sum'),  # 总逾期天数
    avg_overdue_days=pd.NamedAgg(column='逾期天数', aggfunc='mean'),  # 平均逾期天数
    max_overdue_days=pd.NamedAgg(column='逾期天数', aggfunc='max'),  # 最大逾期天数
).reset_index()

# 总逾期期数/总期数比例
repayment_ratio_features = df_merged.groupby('申请人编号').agg(
    total_periods=pd.NamedAgg(column='期数', aggfunc='count'),  # 总期数
    overdue_periods=pd.NamedAgg(column='逾期天数', aggfunc=lambda x: (x > 0).sum())  # 逾期期数
).reset_index()

repayment_ratio_features['overdue_to_total_ratio'] = repayment_ratio_features['overdue_periods'] / repayment_ratio_features['total_periods']

# 3. 还款金额特征
repayment_amount_features = df_merged.groupby('申请人编号').agg(
    total_repayment_amount=pd.NamedAgg(column='还款金额', aggfunc='sum'),  # 总还款金额
    avg_repayment_amount=pd.NamedAgg(column='还款金额', aggfunc='mean'),  # 平均还款金额
    max_repayment_amount=pd.NamedAgg(column='还款金额', aggfunc='max')  # 最大还款金额
).reset_index()

# 4. 时间特征
df_unique_applications = df_merged[['申请人编号', '申请时间']].drop_duplicates()

time_features = df_unique_applications.groupby('申请人编号').agg(
    first_application_time=pd.NamedAgg(column='申请时间', aggfunc='min'),  # 首次申请时间
    recent_application_time=pd.NamedAgg(column='申请时间', aggfunc='max'),  # 最近一次申请时间
    avg_application_interval=pd.NamedAgg(column='申请时间', aggfunc=lambda x: (x.diff().dt.days).mean()),  # 平均申请间隔
    open_days=pd.NamedAgg(column='申请时间', aggfunc=lambda x: (current_date - x.min()).days)  # 开立至今天数
).reset_index()

# 合并所有特征
final_features = applicant_features.merge(repayment_features, on='申请人编号', how='left')
final_features = final_features.merge(max_consecutive_df, on='申请人编号', how='left')
final_features = final_features.merge(repayment_amount_features, on='申请人编号', how='left')
final_features = final_features.merge(repayment_ratio_features[['申请人编号', 'overdue_to_total_ratio']], on='申请人编号', how='left')
final_features = final_features.merge(time_features, on='申请人编号', how='left')
